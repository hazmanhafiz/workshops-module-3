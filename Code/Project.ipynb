{
 "cells": [
  {
   "cell_type": "code",
   "execution_count": null,
   "metadata": {
    "collapsed": true
   },
   "outputs": [],
   "source": [
    "import numpy as np\n",
    "import tensorflow as tf"
   ]
  },
  {
   "cell_type": "code",
   "execution_count": null,
   "metadata": {},
   "outputs": [],
   "source": [
    "# Model linear regression y = Wx + b\n",
    "x = tf.placeholder(tf.float32, [None, 1])\n",
    "W = tf.Variable(tf.zeros([1,1]))\n",
    "b = tf.Variable(tf.zeros([1]))\n",
    "product = tf.matmul(x, W)\n",
    "y = product + b\n",
    "y_ = tf.placeholder"
   ]
  },
  {
   "cell_type": "code",
   "execution_count": null,
   "metadata": {},
   "outputs": [],
   "source": [
    "# Cost function sum((y_-y)**2)\n",
    "#cost = tf.reduce_mean(tf.square(y_-y))\n",
    "cost = tf.reduce_sum(tf.pow((y_-y), 2))"
   ]
  },
  {
   "cell_type": "code",
   "execution_count": null,
   "metadata": {},
   "outputs": [],
   "source": [
    "# Training using Gradient Descent to minimize cost\n",
    "train_step = tf.train.GradientDescentOptimizer(0.0000001).minimize(cost)"
   ]
  },
  {
   "cell_type": "code",
   "execution_count": null,
   "metadata": {},
   "outputs": [],
   "source": [
    "sess = tf.Session()\n",
    "init = tf.initialize_all_variables()\n",
    "sess.run(init)\n",
    "steps = 1000\n",
    "for i in range(steps):\n",
    "  # Create fake data for y = W.x + b where W = 2, b = 0\n",
    "  xs = np.array([[i]])\n",
    "  ys = np.array([[2*i]])\n",
    "  # Train\n",
    "  feed = { x: xs, y_: ys }\n",
    "  sess.run(train_step, feed_dict=feed)\n",
    "  print(\"After %d iteration:\" % i)\n",
    "  print(\"W: %f\" % sess.run(W))\n",
    "  print(\"b: %f\" % sess.run(b))\n",
    "  print(\"cost: %f\" % sess.run(cost, feed_dict=feed))"
   ]
  },
  {
   "cell_type": "code",
   "execution_count": null,
   "metadata": {},
   "outputs": [],
   "source": [
    "# Ref:\n",
    "https://github.com/jtoy/awesome-tensorflow\n",
    "https://github.com/ujjwalkarn/Machine-Learning-Tutorials"
   ]
  }
 ],
 "metadata": {
  "kernelspec": {
   "display_name": "Python 2",
   "language": "python",
   "name": "python2"
  },
  "language_info": {
   "codemirror_mode": {
    "name": "ipython",
    "version": 2
   },
   "file_extension": ".py",
   "mimetype": "text/x-python",
   "name": "python",
   "nbconvert_exporter": "python",
   "pygments_lexer": "ipython2",
   "version": "2.7.9"
  }
 },
 "nbformat": 4,
 "nbformat_minor": 2
}
